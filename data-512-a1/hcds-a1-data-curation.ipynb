{
 "cells": [
  {
   "cell_type": "code",
   "execution_count": null,
   "id": "d744134b",
   "metadata": {},
   "outputs": [],
   "source": [
    "import json\n",
    "import requests"
   ]
  },
  {
   "cell_type": "code",
   "execution_count": null,
   "id": "48f83456",
   "metadata": {},
   "outputs": [],
   "source": [
    "endpoint_legacy = 'https://wikimedia.org/api/rest_v1/metrics/legacy/pagecounts/aggregate/{project}/{access-site}/{granularity}/{start}/{end}'\n",
    "\n",
    "endpoint_pageviews = 'https://wikimedia.org/api/rest_v1/metrics/pageviews/aggregate/{project}/{access}/{agent}/{granularity}/{start}/{end}'"
   ]
  },
  {
   "cell_type": "code",
   "execution_count": null,
   "id": "03cc3f12",
   "metadata": {},
   "outputs": [],
   "source": [
    "# SAMPLE parameters for getting aggregated legacy view data \n",
    "# see: https://wikimedia.org/api/rest_v1/#!/Legacy_data/get_metrics_legacy_pagecounts_aggregate_project_access_site_granularity_start_end\n",
    "# EMILY need to make sure you have dates right, and \n",
    "# each API query type. There should be 5 total between the two APIs. \n",
    "example_params_legacy = {\"project\" : \"en.wikipedia.org\",\n",
    "                 \"access-site\" : \"desktop-site\",\n",
    "                 \"granularity\" : \"monthly\",\n",
    "                 \"start\" : \"2001010100\",\n",
    "                # for end use 1st day of month following final month of data\n",
    "                 \"end\" : \"2018100100\"\n",
    "                    }\n",
    "\n",
    "# SAMPLE parameters for getting aggregated current standard pageview data\n",
    "# see: https://wikimedia.org/api/rest_v1/#!/Pageviews_data/get_metrics_pageviews_aggregate_project_access_agent_granularity_start_end\n",
    "example_params_pageviews = {\"project\" : \"en.wikipedia.org\",\n",
    "                    \"access\" : \"desktop\",\n",
    "                    \"agent\" : \"user\",\n",
    "                    \"granularity\" : \"monthly\",\n",
    "                    \"start\" : \"2001010100\",\n",
    "                    # for end use 1st day of month following final month of data\n",
    "                    \"end\" : '2018101000'\n",
    "                        }\n",
    "\n",
    "# Customize these with your own information\n",
    "headers = {\n",
    "    'User-Agent': 'https://github.com/kathrynline',\n",
    "    'From': 'elineb@uw.edu'\n",
    "}"
   ]
  },
  {
   "cell_type": "code",
   "execution_count": null,
   "id": "87360377",
   "metadata": {},
   "outputs": [],
   "source": [
    "def api_call(endpoint,parameters):\n",
    "    call = requests.get(endpoint.format(**parameters), headers=headers)\n",
    "    response = call.json()\n",
    "    \n",
    "    return response"
   ]
  },
  {
   "cell_type": "code",
   "execution_count": null,
   "id": "a4b733af",
   "metadata": {},
   "outputs": [],
   "source": [
    "example_monthly_pageviews = api_call(endpoint_pageviews, example_params_pageviews)"
   ]
  },
  {
   "cell_type": "code",
   "execution_count": null,
   "id": "be9b456c",
   "metadata": {},
   "outputs": [],
   "source": [
    "print(example_monthly_pageviews)"
   ]
  },
  {
   "cell_type": "code",
   "execution_count": null,
   "id": "eebb93ef",
   "metadata": {},
   "outputs": [],
   "source": [
    "example_monthly_legacy = api_call(endpoint_legacy, example_params_legacy)"
   ]
  },
  {
   "cell_type": "code",
   "execution_count": null,
   "id": "bb5be49f",
   "metadata": {},
   "outputs": [],
   "source": [
    "print(example_monthly_legacy)"
   ]
  }
 ],
 "metadata": {
  "kernelspec": {
   "display_name": "Python 3 (ipykernel)",
   "language": "python",
   "name": "python3"
  },
  "language_info": {
   "codemirror_mode": {
    "name": "ipython",
    "version": 3
   },
   "file_extension": ".py",
   "mimetype": "text/x-python",
   "name": "python",
   "nbconvert_exporter": "python",
   "pygments_lexer": "ipython3",
   "version": "3.9.7"
  }
 },
 "nbformat": 4,
 "nbformat_minor": 5
}
