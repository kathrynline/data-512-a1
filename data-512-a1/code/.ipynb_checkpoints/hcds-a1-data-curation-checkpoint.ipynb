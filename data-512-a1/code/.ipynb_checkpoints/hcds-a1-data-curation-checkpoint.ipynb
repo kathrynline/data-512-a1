{
 "cells": [
  {
   "cell_type": "markdown",
   "id": "d215d825",
   "metadata": {},
   "source": [
    "# A1: Data Curation\n",
    "This project collects and analyzes information about Wikipedia page views from 2008-2021. \n",
    "It was created by Emily Linebarger (elineb@uw.edu) in October 2021, and is maintained in the Github repository https://github.com/kathrynline/data-512-a1. "
   ]
  },
  {
   "cell_type": "markdown",
   "id": "c941fd6e",
   "metadata": {},
   "source": [
    "## Data Aquisition\n",
    "Part one of the project is querying two Wikipedia APIs for information on page views. \n",
    "The Wikipedia legacy Pagecounts API contains desktop and mobile traffic data from December 2007-July 2016. Its endpoint is 'https://wikimedia.org/api/rest_v1/metrics/legacy/pagecounts/aggregate/{project}/{access-site}/{granularity}/{start}/{end}'. \n",
    "The Wikipedia Pageview API contains desktop, mobile web, and mobile app traffic data from July 2015 through last month. Its endpoint is 'https://wikimedia.org/api/rest_v1/metrics/pageviews/aggregate/{project}/{access}/{agent}/{granularity}/{start}/{end}'. \n",
    "\n",
    "Documentation for both APIs can be found at https://wikimedia.org/api/rest_v1/#/. \n",
    "\n",
    "These data were accessed on the last date this notebook was run, which was: "
   ]
  },
  {
   "cell_type": "code",
   "execution_count": 2,
   "id": "56d3e648",
   "metadata": {},
   "outputs": [
    {
     "data": {
      "text/plain": [
       "datetime.date(2021, 10, 5)"
      ]
     },
     "execution_count": 2,
     "metadata": {},
     "output_type": "execute_result"
    }
   ],
   "source": [
    "from datetime import date\n",
    "date.today()"
   ]
  },
  {
   "cell_type": "markdown",
   "id": "cfc3514c",
   "metadata": {},
   "source": [
    "## Notes:\n",
    "For the pageviews app, you can filter to organic user traffic by specifying agent=user in query parameters. The legacy pagecounts API doesn't have this feature. \n",
    "The two APIs overlap by about 1 year. "
   ]
  },
  {
   "cell_type": "code",
   "execution_count": 3,
   "id": "b01002fc",
   "metadata": {},
   "outputs": [],
   "source": [
    "import json\n",
    "import requests\n",
    "import pandas as pd"
   ]
  },
  {
   "cell_type": "code",
   "execution_count": 4,
   "id": "f2a09e7d",
   "metadata": {},
   "outputs": [],
   "source": [
    "def api_call(endpoint,parameters):\n",
    "    call = requests.get(endpoint.format(**parameters), headers=headers)\n",
    "    response = call.json()\n",
    "    \n",
    "    return response"
   ]
  },
  {
   "cell_type": "code",
   "execution_count": 5,
   "id": "01f230da",
   "metadata": {},
   "outputs": [],
   "source": [
    "headers = {\n",
    "    'User-Agent': 'https://github.com/kathrynline',\n",
    "    'From': 'elineb@uw.edu'\n",
    "}"
   ]
  },
  {
   "cell_type": "markdown",
   "id": "a228c1fc",
   "metadata": {},
   "source": [
    "### Wikipedia legacy Pagecounts API extraction"
   ]
  },
  {
   "cell_type": "code",
   "execution_count": 6,
   "id": "48f83456",
   "metadata": {},
   "outputs": [],
   "source": [
    "endpoint_legacy = 'https://wikimedia.org/api/rest_v1/metrics/legacy/pagecounts/aggregate/{project}/{access-site}/{granularity}/{start}/{end}'"
   ]
  },
  {
   "cell_type": "code",
   "execution_count": 7,
   "id": "03cc3f12",
   "metadata": {},
   "outputs": [],
   "source": [
    "# Get desktop site data from December 1 2007 - July 31 2016. \n",
    "# To get through July 31, specify the end date as August 1 2016. \n",
    "desktop_params_legacy = {\"project\" : \"en.wikipedia.org\",\n",
    "                 \"access-site\" : \"desktop-site\",\n",
    "                 \"granularity\" : \"monthly\",\n",
    "                 \"start\" : \"2007120100\",\n",
    "                 \"end\" : \"2016080100\"\n",
    "                    }\n",
    "\n",
    "# Get mobile site data from December 1 2007 - July 31 2016. \n",
    "# To get through July 31, specify the end date as August 1 2016. \n",
    "mobile_params_legacy = {\"project\" : \"en.wikipedia.org\",\n",
    "                 \"access-site\" : \"mobile-site\",\n",
    "                 \"granularity\" : \"monthly\",\n",
    "                 \"start\" : \"2007120100\",\n",
    "                 \"end\" : \"2016080100\"\n",
    "                    }"
   ]
  },
  {
   "cell_type": "code",
   "execution_count": 8,
   "id": "a4b733af",
   "metadata": {},
   "outputs": [],
   "source": [
    "legacy_desktop = api_call(endpoint_legacy, desktop_params_legacy)\n",
    "\n",
    "with open('../0_data_raw/pagecounts_desktop-site_200712_202108.json', 'w') as outfile:\n",
    "    json.dump(legacy_desktop, outfile)"
   ]
  },
  {
   "cell_type": "code",
   "execution_count": 9,
   "id": "725f35b8",
   "metadata": {},
   "outputs": [],
   "source": [
    "legacy_mobile = api_call(endpoint_legacy, mobile_params_legacy)\n",
    "\n",
    "with open('../0_data_raw/pagecounts_mobile-site_200712_202108.json', 'w') as outfile:\n",
    "    json.dump(legacy_mobile, outfile)"
   ]
  },
  {
   "cell_type": "markdown",
   "id": "84148118",
   "metadata": {},
   "source": [
    "### Wikipedia Pageviews API extraction"
   ]
  },
  {
   "cell_type": "code",
   "execution_count": 10,
   "id": "46c90ffb",
   "metadata": {},
   "outputs": [],
   "source": [
    "endpoint_pageviews = 'https://wikimedia.org/api/rest_v1/metrics/pageviews/aggregate/{project}/{access}/{agent}/{granularity}/{start}/{end}'"
   ]
  },
  {
   "cell_type": "code",
   "execution_count": 11,
   "id": "982e39b3",
   "metadata": {},
   "outputs": [],
   "source": [
    "# Get desktop site data from July 2015 - September 2021.\n",
    "# To get through September 31 2021, specify the end date as October 1 2021.  \n",
    "desktop_params_pageviews = {\"project\" : \"en.wikipedia.org\",\n",
    "                    \"access\" : \"desktop\",\n",
    "                    \"agent\" : \"user\",\n",
    "                    \"granularity\" : \"monthly\",\n",
    "                    \"start\" : \"20150701\",\n",
    "                    \"end\" : '202110010'\n",
    "                        }\n",
    "\n",
    "# Get mobile website data from July 2015 - September 2021.\n",
    "# To get through September 31 2021, specify the end date as October 1 2021.  \n",
    "mobile_site_params_pageviews = {\"project\" : \"en.wikipedia.org\",\n",
    "                    \"access\" : \"mobile-web\",\n",
    "                    \"agent\" : \"user\",\n",
    "                    \"granularity\" : \"monthly\",\n",
    "                    \"start\" : \"20150701\",\n",
    "                    \"end\" : '202110010'\n",
    "                        }\n",
    "\n",
    "# Get mobile app data from July 2015 - September 2021.\n",
    "# To get through September 31 2021, specify the end date as October 1 2021.  \n",
    "mobile_app_params_pageviews = {\"project\" : \"en.wikipedia.org\",\n",
    "                    \"access\" : \"mobile-app\",\n",
    "                    \"agent\" : \"user\",\n",
    "                    \"granularity\" : \"monthly\",\n",
    "                    \"start\" : \"20150701\",\n",
    "                    \"end\" : '202110010'\n",
    "                        }"
   ]
  },
  {
   "cell_type": "code",
   "execution_count": 12,
   "id": "eebb93ef",
   "metadata": {},
   "outputs": [],
   "source": [
    "pageviews_desktop = api_call(endpoint_pageviews, desktop_params_pageviews)\n",
    "\n",
    "with open('../0_data_raw/pageviews_desktop_201507_202109.json', 'w') as outfile:\n",
    "    json.dump(pageviews_desktop, outfile)"
   ]
  },
  {
   "cell_type": "code",
   "execution_count": 13,
   "id": "bb5be49f",
   "metadata": {},
   "outputs": [],
   "source": [
    "pageviews_mobile_site = api_call(endpoint_pageviews, mobile_site_params_pageviews)\n",
    "\n",
    "with open('../0_data_raw/pageviews_mobile_site_201507_202109.json', 'w') as outfile:\n",
    "    json.dump(pageviews_mobile_site, outfile)"
   ]
  },
  {
   "cell_type": "code",
   "execution_count": 14,
   "id": "2b2e7025",
   "metadata": {},
   "outputs": [],
   "source": [
    "pageviews_mobile_app = api_call(endpoint_pageviews, mobile_app_params_pageviews)\n",
    "\n",
    "with open('../0_data_raw/pageviews_mobile_app_201507_202109.json', 'w') as outfile:\n",
    "    json.dump(pageviews_mobile_app, outfile)"
   ]
  },
  {
   "cell_type": "markdown",
   "id": "657b33ef",
   "metadata": {},
   "source": [
    "# Data processing"
   ]
  },
  {
   "cell_type": "markdown",
   "id": "3a14aa8f",
   "metadata": {},
   "source": [
    "After querying the API and saving raw outputs, combine the data into one file. This step also replaces any NA values with zero, as those indicate the given collection method was not available on that date, and splits the timestamp column into month and year. "
   ]
  },
  {
   "cell_type": "code",
   "execution_count": 15,
   "id": "b2ce2e36",
   "metadata": {},
   "outputs": [],
   "source": [
    "# Read in raw data outputs\n",
    "pagecounts_desktop = json.load(open('../0_data_raw/pagecounts_desktop-site_200712_202108.json'))\n",
    "pagecounts_mobile = json.load(open('../0_data_raw/pagecounts_mobile-site_200712_202108.json'))\n",
    "pageviews_desktop = json.load(open('../0_data_raw/pageviews_desktop_201507_202109.json'))\n",
    "pageviews_mobile_site = json.load(open('../0_data_raw/pageviews_mobile_site_201507_202109.json'))\n",
    "pageviews_mobile_app = json.load(open('../0_data_raw/pageviews_mobile_app_201507_202109.json'))"
   ]
  },
  {
   "cell_type": "code",
   "execution_count": 16,
   "id": "947363f1",
   "metadata": {},
   "outputs": [],
   "source": [
    "# Combine all data into a single CSV, keeping only the 'timestamp' and 'counts/views' columns. \n",
    "def process_data(raw: dict, count_label: str) -> pd.DataFrame:\n",
    "    \"\"\"Takes a dictionary of raw Wikipedia API results and returns a pandas DataFrame.\"\"\"\n",
    "    data = pd.DataFrame(raw['items'])\n",
    "    if 'count' in data.columns: # Pagecounts API \n",
    "        data = data[['timestamp', 'count']]\n",
    "    else: # Pageviews API\n",
    "        data = data[['timestamp', 'views']]\n",
    "    data.columns = ['timestamp', count_label]\n",
    "    \n",
    "    return data"
   ]
  },
  {
   "cell_type": "code",
   "execution_count": 17,
   "id": "5ecc66e7",
   "metadata": {},
   "outputs": [],
   "source": [
    "# Process each dataframe\n",
    "pagecounts_desktop = process_data(pagecounts_desktop, 'pagecount_desktop_views')\n",
    "pagecounts_mobile = process_data(pagecounts_mobile, 'pagecount_mobile_views')\n",
    "pageviews_desktop = process_data(pageviews_desktop, 'pageview_desktop_views')\n",
    "pageviews_mobile_site = process_data(pageviews_mobile_site, 'pageviews_mobile_site')\n",
    "pageviews_mobile_app = process_data(pageviews_mobile_app, 'pageviews_mobile_app')"
   ]
  },
  {
   "cell_type": "code",
   "execution_count": 18,
   "id": "3926ad51",
   "metadata": {},
   "outputs": [],
   "source": [
    "# Merge all dataframes together on date. Specify an outer merge so no dates are dropped.\n",
    "intermediate_data = pagecounts_desktop.merge(pagecounts_mobile, how='outer', on='timestamp')\n",
    "intermediate_data = intermediate_data.merge(pageviews_desktop, how = 'outer', on = 'timestamp')\n",
    "intermediate_data = intermediate_data.merge(pageviews_mobile_site, how = 'outer', on = 'timestamp')\n",
    "intermediate_data = intermediate_data.merge(pageviews_mobile_app, how = 'outer', on = 'timestamp')"
   ]
  },
  {
   "cell_type": "code",
   "execution_count": 19,
   "id": "0597df77",
   "metadata": {},
   "outputs": [
    {
     "data": {
      "text/html": [
       "<div>\n",
       "<style scoped>\n",
       "    .dataframe tbody tr th:only-of-type {\n",
       "        vertical-align: middle;\n",
       "    }\n",
       "\n",
       "    .dataframe tbody tr th {\n",
       "        vertical-align: top;\n",
       "    }\n",
       "\n",
       "    .dataframe thead th {\n",
       "        text-align: right;\n",
       "    }\n",
       "</style>\n",
       "<table border=\"1\" class=\"dataframe\">\n",
       "  <thead>\n",
       "    <tr style=\"text-align: right;\">\n",
       "      <th></th>\n",
       "      <th>timestamp</th>\n",
       "      <th>pagecount_desktop_views</th>\n",
       "      <th>pagecount_mobile_views</th>\n",
       "      <th>pageview_desktop_views</th>\n",
       "      <th>pageviews_mobile_site</th>\n",
       "      <th>pageviews_mobile_app</th>\n",
       "    </tr>\n",
       "  </thead>\n",
       "  <tbody>\n",
       "    <tr>\n",
       "      <th>0</th>\n",
       "      <td>2007120100</td>\n",
       "      <td>2.998332e+09</td>\n",
       "      <td>NaN</td>\n",
       "      <td>NaN</td>\n",
       "      <td>NaN</td>\n",
       "      <td>NaN</td>\n",
       "    </tr>\n",
       "    <tr>\n",
       "      <th>1</th>\n",
       "      <td>2008010100</td>\n",
       "      <td>4.930903e+09</td>\n",
       "      <td>NaN</td>\n",
       "      <td>NaN</td>\n",
       "      <td>NaN</td>\n",
       "      <td>NaN</td>\n",
       "    </tr>\n",
       "    <tr>\n",
       "      <th>2</th>\n",
       "      <td>2008020100</td>\n",
       "      <td>4.818394e+09</td>\n",
       "      <td>NaN</td>\n",
       "      <td>NaN</td>\n",
       "      <td>NaN</td>\n",
       "      <td>NaN</td>\n",
       "    </tr>\n",
       "    <tr>\n",
       "      <th>3</th>\n",
       "      <td>2008030100</td>\n",
       "      <td>4.955406e+09</td>\n",
       "      <td>NaN</td>\n",
       "      <td>NaN</td>\n",
       "      <td>NaN</td>\n",
       "      <td>NaN</td>\n",
       "    </tr>\n",
       "    <tr>\n",
       "      <th>4</th>\n",
       "      <td>2008040100</td>\n",
       "      <td>5.159162e+09</td>\n",
       "      <td>NaN</td>\n",
       "      <td>NaN</td>\n",
       "      <td>NaN</td>\n",
       "      <td>NaN</td>\n",
       "    </tr>\n",
       "  </tbody>\n",
       "</table>\n",
       "</div>"
      ],
      "text/plain": [
       "    timestamp  pagecount_desktop_views  pagecount_mobile_views  \\\n",
       "0  2007120100             2.998332e+09                     NaN   \n",
       "1  2008010100             4.930903e+09                     NaN   \n",
       "2  2008020100             4.818394e+09                     NaN   \n",
       "3  2008030100             4.955406e+09                     NaN   \n",
       "4  2008040100             5.159162e+09                     NaN   \n",
       "\n",
       "   pageview_desktop_views  pageviews_mobile_site  pageviews_mobile_app  \n",
       "0                     NaN                    NaN                   NaN  \n",
       "1                     NaN                    NaN                   NaN  \n",
       "2                     NaN                    NaN                   NaN  \n",
       "3                     NaN                    NaN                   NaN  \n",
       "4                     NaN                    NaN                   NaN  "
      ]
     },
     "execution_count": 19,
     "metadata": {},
     "output_type": "execute_result"
    }
   ],
   "source": [
    "intermediate_data.head()"
   ]
  },
  {
   "cell_type": "code",
   "execution_count": 20,
   "id": "f187d0e3",
   "metadata": {},
   "outputs": [],
   "source": [
    "# Fill any NAs with zero - these zeros indicate that that collection method was not available for those dates. \n",
    "intermediate_data = intermediate_data.fillna(0)"
   ]
  },
  {
   "cell_type": "code",
   "execution_count": 21,
   "id": "2fb96c6c",
   "metadata": {},
   "outputs": [],
   "source": [
    "# Combine pageviews mobile site and mobile app traffic into a single indicator for monthly mobile traffic. \n",
    "intermediate_data['pageview_mobile_views'] = intermediate_data['pageviews_mobile_site'] + intermediate_data['pageviews_mobile_app']"
   ]
  },
  {
   "cell_type": "code",
   "execution_count": 22,
   "id": "2f44bfe1",
   "metadata": {},
   "outputs": [],
   "source": [
    "# Split 'timestamp' column into 'month' and 'year' columns. \n",
    "intermediate_data['year'] = intermediate_data['timestamp'].str[:4]\n",
    "intermediate_data['month'] = intermediate_data['timestamp'].str[4:6]"
   ]
  },
  {
   "cell_type": "code",
   "execution_count": 23,
   "id": "139f7a75",
   "metadata": {},
   "outputs": [],
   "source": [
    "# Create aggregate views by type of API\n",
    "intermediate_data['pagecount_all_views'] = intermediate_data['pagecount_desktop_views'] + intermediate_data['pagecount_mobile_views']\n",
    "intermediate_data['pageview_all_views'] = intermediate_data['pageview_desktop_views'] + intermediate_data['pageview_mobile_views']"
   ]
  },
  {
   "cell_type": "code",
   "execution_count": 24,
   "id": "994c5ce9",
   "metadata": {},
   "outputs": [],
   "source": [
    "# Subset to final columns\n",
    "intermediate_data = intermediate_data[['year', 'month', 'pagecount_all_views', \n",
    "                                       'pagecount_desktop_views', 'pagecount_mobile_views', \n",
    "                                      'pageview_all_views', 'pageview_desktop_views', 'pageview_mobile_views']]"
   ]
  },
  {
   "cell_type": "code",
   "execution_count": 25,
   "id": "b967dcec",
   "metadata": {},
   "outputs": [
    {
     "data": {
      "text/html": [
       "<div>\n",
       "<style scoped>\n",
       "    .dataframe tbody tr th:only-of-type {\n",
       "        vertical-align: middle;\n",
       "    }\n",
       "\n",
       "    .dataframe tbody tr th {\n",
       "        vertical-align: top;\n",
       "    }\n",
       "\n",
       "    .dataframe thead th {\n",
       "        text-align: right;\n",
       "    }\n",
       "</style>\n",
       "<table border=\"1\" class=\"dataframe\">\n",
       "  <thead>\n",
       "    <tr style=\"text-align: right;\">\n",
       "      <th></th>\n",
       "      <th>year</th>\n",
       "      <th>month</th>\n",
       "      <th>pagecount_all_views</th>\n",
       "      <th>pagecount_desktop_views</th>\n",
       "      <th>pagecount_mobile_views</th>\n",
       "      <th>pageview_all_views</th>\n",
       "      <th>pageview_desktop_views</th>\n",
       "      <th>pageview_mobile_views</th>\n",
       "    </tr>\n",
       "  </thead>\n",
       "  <tbody>\n",
       "    <tr>\n",
       "      <th>0</th>\n",
       "      <td>2007</td>\n",
       "      <td>12</td>\n",
       "      <td>2.998332e+09</td>\n",
       "      <td>2.998332e+09</td>\n",
       "      <td>0.0</td>\n",
       "      <td>0.0</td>\n",
       "      <td>0.0</td>\n",
       "      <td>0.0</td>\n",
       "    </tr>\n",
       "    <tr>\n",
       "      <th>1</th>\n",
       "      <td>2008</td>\n",
       "      <td>01</td>\n",
       "      <td>4.930903e+09</td>\n",
       "      <td>4.930903e+09</td>\n",
       "      <td>0.0</td>\n",
       "      <td>0.0</td>\n",
       "      <td>0.0</td>\n",
       "      <td>0.0</td>\n",
       "    </tr>\n",
       "    <tr>\n",
       "      <th>2</th>\n",
       "      <td>2008</td>\n",
       "      <td>02</td>\n",
       "      <td>4.818394e+09</td>\n",
       "      <td>4.818394e+09</td>\n",
       "      <td>0.0</td>\n",
       "      <td>0.0</td>\n",
       "      <td>0.0</td>\n",
       "      <td>0.0</td>\n",
       "    </tr>\n",
       "    <tr>\n",
       "      <th>3</th>\n",
       "      <td>2008</td>\n",
       "      <td>03</td>\n",
       "      <td>4.955406e+09</td>\n",
       "      <td>4.955406e+09</td>\n",
       "      <td>0.0</td>\n",
       "      <td>0.0</td>\n",
       "      <td>0.0</td>\n",
       "      <td>0.0</td>\n",
       "    </tr>\n",
       "    <tr>\n",
       "      <th>4</th>\n",
       "      <td>2008</td>\n",
       "      <td>04</td>\n",
       "      <td>5.159162e+09</td>\n",
       "      <td>5.159162e+09</td>\n",
       "      <td>0.0</td>\n",
       "      <td>0.0</td>\n",
       "      <td>0.0</td>\n",
       "      <td>0.0</td>\n",
       "    </tr>\n",
       "  </tbody>\n",
       "</table>\n",
       "</div>"
      ],
      "text/plain": [
       "   year month  pagecount_all_views  pagecount_desktop_views  \\\n",
       "0  2007    12         2.998332e+09             2.998332e+09   \n",
       "1  2008    01         4.930903e+09             4.930903e+09   \n",
       "2  2008    02         4.818394e+09             4.818394e+09   \n",
       "3  2008    03         4.955406e+09             4.955406e+09   \n",
       "4  2008    04         5.159162e+09             5.159162e+09   \n",
       "\n",
       "   pagecount_mobile_views  pageview_all_views  pageview_desktop_views  \\\n",
       "0                     0.0                 0.0                     0.0   \n",
       "1                     0.0                 0.0                     0.0   \n",
       "2                     0.0                 0.0                     0.0   \n",
       "3                     0.0                 0.0                     0.0   \n",
       "4                     0.0                 0.0                     0.0   \n",
       "\n",
       "   pageview_mobile_views  \n",
       "0                    0.0  \n",
       "1                    0.0  \n",
       "2                    0.0  \n",
       "3                    0.0  \n",
       "4                    0.0  "
      ]
     },
     "execution_count": 25,
     "metadata": {},
     "output_type": "execute_result"
    }
   ],
   "source": [
    "intermediate_data.head()"
   ]
  },
  {
   "cell_type": "code",
   "execution_count": 26,
   "id": "534cf03a",
   "metadata": {},
   "outputs": [],
   "source": [
    "# Save these outputs\n",
    "intermediate_data.to_csv('../1_data_clean/en-wikipedia_traffic_200712-202108.csv')"
   ]
  },
  {
   "cell_type": "markdown",
   "id": "145d173f",
   "metadata": {},
   "source": [
    "## Analysis "
   ]
  },
  {
   "cell_type": "markdown",
   "id": "6333ac85",
   "metadata": {},
   "source": [
    "The result desired from this analysis is a graph of Wikipedia page views by method over time. Note that some of the lines in the plot below fall to zero, and this is because there are two different APIs with different dates available. \n",
    "If we had not replaced NAs with zeros in the data cleaning step, these lines would not span the entire time series. "
   ]
  },
  {
   "cell_type": "code",
   "execution_count": 27,
   "id": "5a443b66",
   "metadata": {},
   "outputs": [],
   "source": [
    "import matplotlib.pyplot as plt"
   ]
  },
  {
   "cell_type": "code",
   "execution_count": 28,
   "id": "9af8e54f",
   "metadata": {},
   "outputs": [],
   "source": [
    "df = pd.read_csv('../1_data_clean/en-wikipedia_traffic_200712-202108.csv')"
   ]
  },
  {
   "cell_type": "code",
   "execution_count": 29,
   "id": "6a43485a",
   "metadata": {},
   "outputs": [],
   "source": [
    "# Create a date column, so you can plot by month-year\n",
    "df['day'] = 1\n",
    "df['date'] = pd.to_datetime(df[['month', 'day', 'year']])"
   ]
  },
  {
   "cell_type": "code",
   "execution_count": 30,
   "id": "5f41fc9a",
   "metadata": {},
   "outputs": [
    {
     "data": {
      "text/html": [
       "<div>\n",
       "<style scoped>\n",
       "    .dataframe tbody tr th:only-of-type {\n",
       "        vertical-align: middle;\n",
       "    }\n",
       "\n",
       "    .dataframe tbody tr th {\n",
       "        vertical-align: top;\n",
       "    }\n",
       "\n",
       "    .dataframe thead th {\n",
       "        text-align: right;\n",
       "    }\n",
       "</style>\n",
       "<table border=\"1\" class=\"dataframe\">\n",
       "  <thead>\n",
       "    <tr style=\"text-align: right;\">\n",
       "      <th></th>\n",
       "      <th>Unnamed: 0</th>\n",
       "      <th>year</th>\n",
       "      <th>month</th>\n",
       "      <th>pagecount_all_views</th>\n",
       "      <th>pagecount_desktop_views</th>\n",
       "      <th>pagecount_mobile_views</th>\n",
       "      <th>pageview_all_views</th>\n",
       "      <th>pageview_desktop_views</th>\n",
       "      <th>pageview_mobile_views</th>\n",
       "      <th>day</th>\n",
       "      <th>date</th>\n",
       "    </tr>\n",
       "  </thead>\n",
       "  <tbody>\n",
       "    <tr>\n",
       "      <th>0</th>\n",
       "      <td>0</td>\n",
       "      <td>2007</td>\n",
       "      <td>12</td>\n",
       "      <td>2.998332e+09</td>\n",
       "      <td>2.998332e+09</td>\n",
       "      <td>0.0</td>\n",
       "      <td>0.0</td>\n",
       "      <td>0.0</td>\n",
       "      <td>0.0</td>\n",
       "      <td>1</td>\n",
       "      <td>2007-12-01</td>\n",
       "    </tr>\n",
       "    <tr>\n",
       "      <th>1</th>\n",
       "      <td>1</td>\n",
       "      <td>2008</td>\n",
       "      <td>1</td>\n",
       "      <td>4.930903e+09</td>\n",
       "      <td>4.930903e+09</td>\n",
       "      <td>0.0</td>\n",
       "      <td>0.0</td>\n",
       "      <td>0.0</td>\n",
       "      <td>0.0</td>\n",
       "      <td>1</td>\n",
       "      <td>2008-01-01</td>\n",
       "    </tr>\n",
       "    <tr>\n",
       "      <th>2</th>\n",
       "      <td>2</td>\n",
       "      <td>2008</td>\n",
       "      <td>2</td>\n",
       "      <td>4.818394e+09</td>\n",
       "      <td>4.818394e+09</td>\n",
       "      <td>0.0</td>\n",
       "      <td>0.0</td>\n",
       "      <td>0.0</td>\n",
       "      <td>0.0</td>\n",
       "      <td>1</td>\n",
       "      <td>2008-02-01</td>\n",
       "    </tr>\n",
       "    <tr>\n",
       "      <th>3</th>\n",
       "      <td>3</td>\n",
       "      <td>2008</td>\n",
       "      <td>3</td>\n",
       "      <td>4.955406e+09</td>\n",
       "      <td>4.955406e+09</td>\n",
       "      <td>0.0</td>\n",
       "      <td>0.0</td>\n",
       "      <td>0.0</td>\n",
       "      <td>0.0</td>\n",
       "      <td>1</td>\n",
       "      <td>2008-03-01</td>\n",
       "    </tr>\n",
       "    <tr>\n",
       "      <th>4</th>\n",
       "      <td>4</td>\n",
       "      <td>2008</td>\n",
       "      <td>4</td>\n",
       "      <td>5.159162e+09</td>\n",
       "      <td>5.159162e+09</td>\n",
       "      <td>0.0</td>\n",
       "      <td>0.0</td>\n",
       "      <td>0.0</td>\n",
       "      <td>0.0</td>\n",
       "      <td>1</td>\n",
       "      <td>2008-04-01</td>\n",
       "    </tr>\n",
       "  </tbody>\n",
       "</table>\n",
       "</div>"
      ],
      "text/plain": [
       "   Unnamed: 0  year  month  pagecount_all_views  pagecount_desktop_views  \\\n",
       "0           0  2007     12         2.998332e+09             2.998332e+09   \n",
       "1           1  2008      1         4.930903e+09             4.930903e+09   \n",
       "2           2  2008      2         4.818394e+09             4.818394e+09   \n",
       "3           3  2008      3         4.955406e+09             4.955406e+09   \n",
       "4           4  2008      4         5.159162e+09             5.159162e+09   \n",
       "\n",
       "   pagecount_mobile_views  pageview_all_views  pageview_desktop_views  \\\n",
       "0                     0.0                 0.0                     0.0   \n",
       "1                     0.0                 0.0                     0.0   \n",
       "2                     0.0                 0.0                     0.0   \n",
       "3                     0.0                 0.0                     0.0   \n",
       "4                     0.0                 0.0                     0.0   \n",
       "\n",
       "   pageview_mobile_views  day       date  \n",
       "0                    0.0    1 2007-12-01  \n",
       "1                    0.0    1 2008-01-01  \n",
       "2                    0.0    1 2008-02-01  \n",
       "3                    0.0    1 2008-03-01  \n",
       "4                    0.0    1 2008-04-01  "
      ]
     },
     "execution_count": 30,
     "metadata": {},
     "output_type": "execute_result"
    }
   ],
   "source": [
    "df.head()"
   ]
  },
  {
   "cell_type": "code",
   "execution_count": 31,
   "id": "c3654317",
   "metadata": {},
   "outputs": [
    {
     "data": {
      "image/png": "[encoded data removed]",
      "text/plain": [
       "<Figure size 720x432 with 1 Axes>"
      ]
     },
     "metadata": {
      "needs_background": "light"
     },
     "output_type": "display_data"
    }
   ],
   "source": [
    "plt.rc('font', size=12)\n",
    "fig, ax = plt.subplots(figsize=(10, 6))\n",
    "\n",
    "# Pagecount API lines\n",
    "ax.plot(df.date, df.pagecount_all_views, color='tab:orange', label='Pagecount all')\n",
    "ax.plot(df.date, df.pagecount_desktop_views, color='tab:blue', label='Pagecount desktop')\n",
    "ax.plot(df.date, df.pagecount_mobile_views, color='tab:green', label='Pagecount mobile')\n",
    "\n",
    "# Pageviews API lines\n",
    "ax.plot(df.date, df.pageview_all_views, color='tab:red', label='Pageviews all')\n",
    "ax.plot(df.date, df.pageview_desktop_views, color='tab:purple', label='Pageviews desktop')\n",
    "ax.plot(df.date, df.pageview_mobile_views, color='tab:brown', label='Pageviews mobile')\n",
    "\n",
    "# Set labels/legends\n",
    "ax.set_xlabel('Year')\n",
    "ax.set_ylabel('Views')\n",
    "ax.set_title('Wikipedia page views by access method')\n",
    "ax.grid(True)\n",
    "ax.legend(loc='best');"
   ]
  },
  {
   "cell_type": "code",
   "execution_count": 32,
   "id": "b173c364",
   "metadata": {},
   "outputs": [
    {
     "data": {
      "text/plain": [
       "<Figure size 432x288 with 0 Axes>"
      ]
     },
     "metadata": {},
     "output_type": "display_data"
    }
   ],
   "source": [
    "plt.savefig('../2_analysis/page_views_by_access_method.png')"
   ]
  },
  {
   "cell_type": "code",
   "execution_count": null,
   "id": "f3d3225f",
   "metadata": {},
   "outputs": [],
   "source": []
  }
 ],
 "metadata": {
  "kernelspec": {
   "display_name": "Python 3 (ipykernel)",
   "language": "python",
   "name": "python3"
  },
  "language_info": {
   "codemirror_mode": {
    "name": "ipython",
    "version": 3
   },
   "file_extension": ".py",
   "mimetype": "text/x-python",
   "name": "python",
   "nbconvert_exporter": "python",
   "pygments_lexer": "ipython3",
   "version": "3.9.7"
  }
 },
 "nbformat": 4,
 "nbformat_minor": 5
}
