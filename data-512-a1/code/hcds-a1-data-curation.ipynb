{
 "cells": [
  {
   "cell_type": "markdown",
   "id": "d215d825",
   "metadata": {},
   "source": [
    "# A1: Data Curation\n",
    "This project collects and analyzes information about Wikipedia page views from 2008-2021. \n",
    "It was created by Emily Linebarger (elineb@uw.edu) in October 2021, and is maintained in the Github repository https://github.com/kathrynline/data-512-a1. "
   ]
  },
  {
   "cell_type": "markdown",
   "id": "c941fd6e",
   "metadata": {},
   "source": [
    "## Data Aquisition\n",
    "Part one of the project is querying two Wikipedia APIs for information on page views. \n",
    "The Wikipedia legacy Pagecounts API contains desktop and mobile traffic data from December 2007-July 2016. Its endpoint is 'https://wikimedia.org/api/rest_v1/metrics/legacy/pagecounts/aggregate/{project}/{access-site}/{granularity}/{start}/{end}'. \n",
    "The Wikipedia Pageview API contains desktop, mobile web, and mobile app traffic data from July 2015 through last month. Its endpoint is 'https://wikimedia.org/api/rest_v1/metrics/pageviews/aggregate/{project}/{access}/{agent}/{granularity}/{start}/{end}'. \n",
    "\n",
    "Documentation for both APIs can be found at https://wikimedia.org/api/rest_v1/#/. "
   ]
  },
  {
   "cell_type": "markdown",
   "id": "cfc3514c",
   "metadata": {},
   "source": [
    "## Notes:\n",
    "For the pageviews app, you can filter to organic user traffic by specifying agent=user in query parameters. The legacy pagecounts API doesn't have this feature. \n",
    "The two APIs overlap by about 1 year. "
   ]
  },
  {
   "cell_type": "code",
   "execution_count": 1,
   "id": "b01002fc",
   "metadata": {},
   "outputs": [],
   "source": [
    "import json\n",
    "import requests"
   ]
  },
  {
   "cell_type": "code",
   "execution_count": 2,
   "id": "f2a09e7d",
   "metadata": {},
   "outputs": [],
   "source": [
    "def api_call(endpoint,parameters):\n",
    "    call = requests.get(endpoint.format(**parameters), headers=headers)\n",
    "    response = call.json()\n",
    "    \n",
    "    return response"
   ]
  },
  {
   "cell_type": "code",
   "execution_count": 3,
   "id": "01f230da",
   "metadata": {},
   "outputs": [],
   "source": [
    "headers = {\n",
    "    'User-Agent': 'https://github.com/kathrynline',\n",
    "    'From': 'elineb@uw.edu'\n",
    "}"
   ]
  },
  {
   "cell_type": "markdown",
   "id": "a228c1fc",
   "metadata": {},
   "source": [
    "### Wikipedia legacy Pagecounts API extraction"
   ]
  },
  {
   "cell_type": "code",
   "execution_count": 4,
   "id": "48f83456",
   "metadata": {},
   "outputs": [],
   "source": [
    "endpoint_legacy = 'https://wikimedia.org/api/rest_v1/metrics/legacy/pagecounts/aggregate/{project}/{access-site}/{granularity}/{start}/{end}'"
   ]
  },
  {
   "cell_type": "code",
   "execution_count": 5,
   "id": "03cc3f12",
   "metadata": {},
   "outputs": [],
   "source": [
    "# Get desktop site data from December 1 2007 - July 31 2016. \n",
    "# To get through July 31, specify the end date as August 1 2016. \n",
    "desktop_params_legacy = {\"project\" : \"en.wikipedia.org\",\n",
    "                 \"access-site\" : \"desktop-site\",\n",
    "                 \"granularity\" : \"monthly\",\n",
    "                 \"start\" : \"2007120100\",\n",
    "                 \"end\" : \"2016080100\"\n",
    "                    }\n",
    "\n",
    "# Get mobile site data from December 1 2007 - July 31 2016. \n",
    "# To get through July 31, specify the end date as August 1 2016. \n",
    "mobile_params_legacy = {\"project\" : \"en.wikipedia.org\",\n",
    "                 \"access-site\" : \"mobile-site\",\n",
    "                 \"granularity\" : \"monthly\",\n",
    "                 \"start\" : \"2007120100\",\n",
    "                 \"end\" : \"2016080100\"\n",
    "                    }"
   ]
  },
  {
   "cell_type": "code",
   "execution_count": 9,
   "id": "a4b733af",
   "metadata": {},
   "outputs": [],
   "source": [
    "legacy_desktop = api_call(endpoint_legacy, desktop_params_legacy)\n",
    "\n",
    "with open('../0_data_raw/pagecounts_desktop-site_200712_202108.json', 'w') as outfile:\n",
    "    json.dump(legacy_desktop, outfile)"
   ]
  },
  {
   "cell_type": "code",
   "execution_count": 10,
   "id": "725f35b8",
   "metadata": {},
   "outputs": [],
   "source": [
    "legacy_mobile = api_call(endpoint_legacy, mobile_params_legacy)\n",
    "\n",
    "with open('../0_data_raw/pagecounts_mobile-site_200712_202108.json', 'w') as outfile:\n",
    "    json.dump(legacy_mobile, outfile)"
   ]
  },
  {
   "cell_type": "markdown",
   "id": "84148118",
   "metadata": {},
   "source": [
    "### Wikipedia Pageviews API extraction"
   ]
  },
  {
   "cell_type": "code",
   "execution_count": 11,
   "id": "46c90ffb",
   "metadata": {},
   "outputs": [],
   "source": [
    "endpoint_pageviews = 'https://wikimedia.org/api/rest_v1/metrics/pageviews/aggregate/{project}/{access}/{agent}/{granularity}/{start}/{end}'"
   ]
  },
  {
   "cell_type": "code",
   "execution_count": 12,
   "id": "982e39b3",
   "metadata": {},
   "outputs": [],
   "source": [
    "# Get desktop site data from July 2015 - September 2021.\n",
    "# To get through September 31 2021, specify the end date as October 1 2021.  \n",
    "desktop_params_pageviews = {\"project\" : \"en.wikipedia.org\",\n",
    "                    \"access\" : \"desktop\",\n",
    "                    \"agent\" : \"user\",\n",
    "                    \"granularity\" : \"monthly\",\n",
    "                    \"start\" : \"2015070100\",\n",
    "                    \"end\" : '20211001000'\n",
    "                        }\n",
    "\n",
    "# Get mobile website data from July 2015 - September 2021.\n",
    "# To get through September 31 2021, specify the end date as October 1 2021.  \n",
    "mobile_site_params_pageviews = {\"project\" : \"en.wikipedia.org\",\n",
    "                    \"access\" : \"mobile-site\",\n",
    "                    \"agent\" : \"user\",\n",
    "                    \"granularity\" : \"monthly\",\n",
    "                    \"start\" : \"2015070100\",\n",
    "                    \"end\" : '20211001000'\n",
    "                        }\n",
    "\n",
    "# Get mobile app data from July 2015 - September 2021.\n",
    "# To get through September 31 2021, specify the end date as October 1 2021.  \n",
    "mobile_app_params_pageviews = {\"project\" : \"en.wikipedia.org\",\n",
    "                    \"access\" : \"mobile-app\",\n",
    "                    \"agent\" : \"user\",\n",
    "                    \"granularity\" : \"monthly\",\n",
    "                    \"start\" : \"2015070100\",\n",
    "                    \"end\" : '20211001000'\n",
    "                        }"
   ]
  },
  {
   "cell_type": "code",
   "execution_count": 13,
   "id": "eebb93ef",
   "metadata": {},
   "outputs": [],
   "source": [
    "pageviews_desktop = api_call(endpoint_pageviews, desktop_params_pageviews)\n",
    "\n",
    "with open('../0_data_raw/pageviews_desktop_201507_202109.json', 'w') as outfile:\n",
    "    json.dump(pageviews_desktop, outfile)"
   ]
  },
  {
   "cell_type": "code",
   "execution_count": 14,
   "id": "bb5be49f",
   "metadata": {},
   "outputs": [],
   "source": [
    "pageviews_mobile_site = api_call(endpoint_pageviews, mobile_site_params_pageviews)\n",
    "\n",
    "with open('../0_data_raw/pageviews_mobile_site_201507_202109.json', 'w') as outfile:\n",
    "    json.dump(pageviews_mobile_site, outfile)"
   ]
  },
  {
   "cell_type": "code",
   "execution_count": 15,
   "id": "2b2e7025",
   "metadata": {},
   "outputs": [],
   "source": [
    "pageviews_mobile_app = api_call(endpoint_pageviews, mobile_app_params_pageviews)\n",
    "\n",
    "with open('../0_data_raw/pageviews_mobile_app_201507_202109.json', 'w') as outfile:\n",
    "    json.dump(pageviews_mobile_app, outfile)"
   ]
  },
  {
   "cell_type": "code",
   "execution_count": null,
   "id": "96aea218",
   "metadata": {},
   "outputs": [],
   "source": []
  }
 ],
 "metadata": {
  "kernelspec": {
   "display_name": "Python 3 (ipykernel)",
   "language": "python",
   "name": "python3"
  },
  "language_info": {
   "codemirror_mode": {
    "name": "ipython",
    "version": 3
   },
   "file_extension": ".py",
   "mimetype": "text/x-python",
   "name": "python",
   "nbconvert_exporter": "python",
   "pygments_lexer": "ipython3",
   "version": "3.9.7"
  }
 },
 "nbformat": 4,
 "nbformat_minor": 5
}
